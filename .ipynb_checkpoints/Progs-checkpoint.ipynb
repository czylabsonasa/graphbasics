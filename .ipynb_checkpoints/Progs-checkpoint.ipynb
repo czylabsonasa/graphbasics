{
 "cells": [
  {
   "cell_type": "markdown",
   "metadata": {},
   "source": [
    "<a id='ER'></a>\n",
    "## Erdős-Rényi gráf"
   ]
  },
  {
   "cell_type": "code",
   "execution_count": 1,
   "metadata": {},
   "outputs": [
    {
     "ename": "ArgumentError",
     "evalue": "ArgumentError: Package LightGraphs not found in current path:\n- Run `import Pkg; Pkg.add(\"LightGraphs\")` to install the LightGraphs package.\n",
     "output_type": "error",
     "traceback": [
      "ArgumentError: Package LightGraphs not found in current path:\n- Run `import Pkg; Pkg.add(\"LightGraphs\")` to install the LightGraphs package.\n",
      "",
      "Stacktrace:",
      " [1] require(::Module, ::Symbol) at ./loading.jl:823",
      " [2] top-level scope at In[1]:1"
     ]
    }
   ],
   "source": [
    "# egy gráf létrehozása\n",
    "using LightGraphs\n",
    "n,p=10,0.5\n",
    "G=SimpleGraph(n)\n",
    "for i=1:n-1, j=i+1:n\n",
    "  rand()<p && add_edge!(G,i,j) \n",
    "end\n",
    "using GraphPlot\n",
    "gplot(G)"
   ]
  },
  {
   "cell_type": "code",
   "execution_count": null,
   "metadata": {},
   "outputs": [],
   "source": [
    "# szimuláció\n",
    "function gen(n,p)\n",
    "  G=SimpleGraph(n)\n",
    "  for i=1:n-1, j=i+1:n\n",
    "    rand()<p && add_edge!(G,i,j) \n",
    "  end\n",
    "  G\n",
    "end\n",
    "n,p,ISM=10,0.5,1000\n",
    "s=0.0\n",
    "for ism=1:ISM\n",
    "  G=gen(n,p)\n",
    "  d=degree(G)\n",
    "  s+= sum(d.*(d .- 1))\n",
    "end\n",
    "println(0.5*s/ISM)"
   ]
  }
 ],
 "metadata": {
  "@webio": {
   "lastCommId": "a6de2a8890304274ab776b645c92b072",
   "lastKernelId": "b60b542f-1725-44ef-a265-1e2df2f3a1ab"
  },
  "kernelspec": {
   "display_name": "Julia 1.1.1",
   "language": "julia",
   "name": "julia-1.1"
  },
  "language_info": {
   "file_extension": ".jl",
   "mimetype": "application/julia",
   "name": "julia",
   "version": "1.1.1"
  },
  "toc": {
   "base_numbering": 1,
   "nav_menu": {},
   "number_sections": true,
   "sideBar": true,
   "skip_h1_title": true,
   "title_cell": "Table of Contents",
   "title_sidebar": "Contents",
   "toc_cell": false,
   "toc_position": {},
   "toc_section_display": true,
   "toc_window_display": false
  }
 },
 "nbformat": 4,
 "nbformat_minor": 2
}
