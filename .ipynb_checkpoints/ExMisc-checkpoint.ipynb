{
 "cells": [
  {
   "cell_type": "markdown",
   "metadata": {},
   "source": [
    "<head>\n",
    "<style>\n",
    "    pre {tab-size: 2;}    \n",
    "    div {tab-size: 2;}    \n",
    "</style> \n",
    "<head>\n"
   ]
  },
  {
   "cell_type": "markdown",
   "metadata": {},
   "source": [
    "## Feladatok - Vegyes"
   ]
  },
  {
   "cell_type": "markdown",
   "metadata": {},
   "source": [
    "<a id='IRR1'></a>\n",
    "### Irracionális számok\n",
    "Adott 6 irracionális szám. Mutassuk meg, hogy van köztük 3 olyan melyek páronként irracionális összegűek.\n",
    "<br>\n",
    "[megoldás](#IRR1_M)\n"
   ]
  },
  {
   "cell_type": "markdown",
   "metadata": {},
   "source": [
    "<a id='TRI3'></a>\n",
    "### Bajnokság 1\n",
    "Egy labdarúgóbajnokságban $18$ csapat vesz részt. <br>\n",
    "Mutassuk meg, hogy $8$ forduló lejátszása után még biztosan van olyan $3$ csapat,<br> \n",
    "melyek közül semelyik kettő nem játszott egymással.\n",
    "<br>\n",
    "[megoldás](#TRI3_M)\n",
    "\n"
   ]
  },
  {
   "cell_type": "markdown",
   "metadata": {},
   "source": [
    "<a id='DEGSEQ1'></a>\n",
    "### Fokszám sorozat 1\n",
    "Van-e olyan társaság, melyben az embereknek rendre \n",
    "$9, 9, 9, 8, 8, 8, 7, 6, 4, 4$ ismerőse van?\n",
    "<br>\n",
    "[megoldás](#DEGSEQ1_M)"
   ]
  },
  {
   "cell_type": "markdown",
   "metadata": {},
   "source": [
    "<a id='DEGSEQ2'></a>\n",
    "### Fokszám sorozat 2\n",
    "Van-e olyan társaság, melyben az embereknek rendre \n",
    "$8, 8, 8, 5, 5, 5, 3, 2, 2$ ismerőse van?\n",
    "<br>\n",
    "[megoldás](#DEGSEQ2_M)"
   ]
  },
  {
   "cell_type": "markdown",
   "metadata": {},
   "source": [
    "<a id='NET1'></a>\n",
    "### Hálózat 1\n",
    "Hálózatba lehet-e kapcsolni 1987 számítógépet úgy, hogy mindegyik pontosan 5 másikkal legyen összekötve?\n",
    "<br>\n",
    "[megoldás](#NET1_M)"
   ]
  },
  {
   "cell_type": "markdown",
   "metadata": {},
   "source": [
    "<a id='GAME1'></a>\n",
    "### Játék 1\n",
    "Két játékos $A$ és $B$ felváltva színezi egy teljes $n>2$ gráf éleit pirosra. Az veszít, \n",
    "aki először kört hoz létre. Kinek van nyerő stratégiája, ha $A$ kezd?\n",
    "<br>\n",
    "[megoldás](#GAME1_M)"
   ]
  },
  {
   "cell_type": "markdown",
   "metadata": {},
   "source": [
    "<a id='DIC1'></a>\n",
    "### Fokszámok a komplementerben 1\n",
    "Egy $n$-csúcsú $G$ egyszerű gráfban pont *egy* páros fokú pont van. <br>\n",
    "Hány van a komplementerében?\n",
    "<br>\n",
    "[megoldás](#DIC1_M)"
   ]
  },
  {
   "cell_type": "markdown",
   "metadata": {},
   "source": [
    "<a id='DIC2'></a>\n",
    "### Fokszámok a komplementerben 2\n",
    "Egy $n$-csúcsú $G$ egyszerű gráfban $2k-1$ páros fokú pont van. <br>\n",
    "Hány van a komplementerében?\n",
    "<br>\n",
    "[megoldás](#DIC2_M)"
   ]
  },
  {
   "cell_type": "markdown",
   "metadata": {},
   "source": [
    "<a id='FOK5'></a>\n",
    "### Magányos csúcsok\n",
    "Egy $n$-csúcsú $G$ egyszerű gráfban a csúcsokat kiszínezzük pirosra vagy zöldre. <br>\n",
    "Nevezzünk egy pontot magányosnak, ha **több** a szomszédai között a tőle különböző színű.<br> \n",
    "Nevezzük lépésnek azt az eljárást, hogy választunk egy magányos pontot és megváltoztathatjuk a színét. <br>\n",
    "Mutassuk meg, hogy a csúcsok választásától függetlenül, néhány lépés után nem lesz a gráfban magányos csúcs.<br>\n",
    "[megoldás](#FOK5_M)"
   ]
  },
  {
   "cell_type": "markdown",
   "metadata": {},
   "source": [
    "## Megoldások 1"
   ]
  },
  {
   "cell_type": "markdown",
   "metadata": {},
   "source": [
    "<a id='IRR1'></a>\n",
    "### Irracionális számok\n",
    "Legyen egy él pirosra színezve ha az összeg irracionális egyébként zöld. Tudjuk, hogy van egyszínű $a,b,c$ csúcsú $\\triangle$. <br>Ha ez zöld, akkor $a+b+c\\in \\mathbb{Q}$, amiből $a,b,c\\in\\mathbb{Q}$ lenne, ami nem lehet.\n",
    "<br>\n",
    "(F.2662@Kömal)\n",
    "<br>\n",
    "[vissza a feladathoz](#IRR1)\n",
    "\n"
   ]
  },
  {
   "cell_type": "markdown",
   "metadata": {},
   "source": [
    "<a id='TRI3_M'></a>\n",
    "### Bajnokság 1 \n",
    "Induljunk ki $K_{18}$-ból. Minden forduló után töröljük a lejátszott mérkőzések linkjeit.<br>\n",
    "A $8$. forduló után minden csúcsnak $17-8=9$-szomszédja van (maradt). <br>\n",
    "Legyen $v$ egy tetszőleges csúcs és legyen $U$ szomszédok halmaza. Ha $U$-n \n",
    "belül van él készen vagyunk. <br>Ha nincs, az azt jelenti, hogy az $U$ csapatai csak egymással \n",
    "játszottak eddig. <br>Ez lehetetlen, mivel $U$ páratlan elemszámú (már az első fordulóban $1$ csapat \n",
    "pár nélkül maradna)\n",
    "<br>\n",
    "(Gy.2048@Kömal)<br>\n",
    "[vissza](#TRI3)\n"
   ]
  },
  {
   "cell_type": "markdown",
   "metadata": {},
   "source": [
    "<a id='DEGSEQ1_M'></a>\n",
    "### Fokszám sorozat 1\n",
    "Tfh. van ilyen társaság. Mivel $3$ ember mindenkit ismer, ezeket és az ismeretségeiket elhagyva a\n",
    "$5,5,5,4,3,1,1$ fokszámsorozatot (illetve a megfelelő gráfot) kapjuk. \n",
    "Figyeljük meg: egy $5$ ismerősű ember ismeri valamelyik $1$ ismerősűt. Ez viszont nem lehet, mert ekkor \n",
    "valamelyik $1$ ismerősűnek legalább $2$ ismerősének kell lennie.\n",
    "<br>\n",
    "(Gy.2089@Kömal)\n",
    "<br>\n",
    "[vissza](#DEGSEQ1)\n"
   ]
  },
  {
   "cell_type": "markdown",
   "metadata": {},
   "source": [
    "<a id='DEGSEQ2_M'></a>\n",
    "### Fokszám sorozat 2\n",
    "Mivel $3$ csúcs max. fokszámú, ezért minden pont foka legalább $3$, így nincs ilyen társaság.\n",
    "<br>\n",
    "[vissza](#DEGSEQ2)"
   ]
  },
  {
   "cell_type": "markdown",
   "metadata": {},
   "source": [
    "<a id='NET1_M'></a>\n",
    "### Hálózat 1\n",
    "Nem. A páratlan fokú pontok száma mindig páros.<br>\n",
    "Általánosan: nem létezik $K_{2n-1,2r-1}$.\n",
    "<br>\n",
    "(C.106@Kömal)\n",
    "<br>\n",
    "[vissza](#NET1)"
   ]
  },
  {
   "cell_type": "markdown",
   "metadata": {},
   "source": [
    "<a id='GAME1_M'></a>\n",
    "### Játék 1\n",
    "A kulcsszó komponensek. Felejtsük el a teljes $n$-gráfot, induljunk ki egy $n$ pontú üres gráfból és \n",
    "él-színezés helyett a él-behúzást csinálunk.<br>\n",
    "Minden sikeres lépésnél $1$-gyel csökken a komponensek száma, mert komponensen belüli élt behúzva kör jönne létre, így $n-1$ lépés tehető meg. Mindkét játékos sikeres lépést akar tenni, különben veszít: <br>Ha $n$ páros/páratlan akkor páratlan/páros sikeres lépés tehető, így $A/B$ a nyerő.<br>\n",
    "n páros: $\\color{green}{AB\\ldots ABA}\\ \\color{red}B$ <br>\n",
    "n páratlan: $\\color{green}{AB\\ldots AB}\\ \\color{red}A$ <br>\n",
    "(F.2746@Kömal)\n",
    "<br>\n",
    "[vissza](#GAME1)"
   ]
  },
  {
   "cell_type": "markdown",
   "metadata": {},
   "source": [
    "<a id='DIC1_M'></a>\n",
    "### Fokszámok a komplementerben 1\n",
    "$n-1$ páratlan fokú pont van $G$-ben, ezért $n-1$ páros, azaz $n$ páratlan. <br>Tehát egy tetszőleges pont esetén $G$-beli és $G^c$-beli fokszámok összege páros, azaz a fokszámok paritása nem változik.\n",
    "<br>\n",
    "[vissza](#DIC1)"
   ]
  },
  {
   "cell_type": "markdown",
   "metadata": {},
   "source": [
    "<a id='DIC2_M'></a>\n",
    "### Fokszámok a komplementerben 2\n",
    "$n-(2k-1)$ páratlan fokú pont $\\implies n-(2k-1)$ páros $\\implies n-1$ páros.\n",
    "<br>Tehát egy tetszőleges pont esetén $G$-beli és $G^c$-beli fokszámok összege páros, azaz a fokszámok paritása nem változik.\n",
    "<br>\n",
    "[vissza](#DIC2)"
   ]
  },
  {
   "cell_type": "markdown",
   "metadata": {},
   "source": [
    "<a id='FOK5_M'></a>\n",
    "### Magányos csúcsok\n",
    "Rendeljünk $1$-et vagy $-1$-et a gráf éleihez, aszerint, hogy egyforma vagy különböző színű csúcsokat köt össze.\n",
    "Gondoljuk meg a következőket:\n",
    "- Az élekre írt számok összege maximálisan $|E|$ lehet. (csupa $1$)\n",
    "- Egy lépésben az élekre írt számok összege (legalább $2$-vel) **növekszik**, hiszen ha a \n",
    "  választott pontnak $n_{\\text{egyező}}<n_{különböző}$ a szomszédai száma, \n",
    "  akkor a teljes összegben $1\\cdot n_{\\text{egyező}}+(-1)\\cdot n_{különböző}<0$ előjelet vált.\n",
    "\n",
    "Ezért az eljárás néhány lépés után véget ér.\n",
    "[vissza](#FOK5)"
   ]
  },
  {
   "cell_type": "code",
   "execution_count": null,
   "metadata": {},
   "outputs": [],
   "source": []
  }
 ],
 "metadata": {
  "@webio": {
   "lastCommId": "dd9c7c958e0b4b439d9f0c10e9dc9789",
   "lastKernelId": "5a4be4ae-bc0d-4a3f-8a14-1e1361a2030f"
  },
  "kernelspec": {
   "display_name": "Julia 1.0.0",
   "language": "julia",
   "name": "julia-1.0"
  },
  "language_info": {
   "file_extension": ".jl",
   "mimetype": "application/julia",
   "name": "julia",
   "version": "1.0.0"
  },
  "toc": {
   "base_numbering": 1,
   "nav_menu": {},
   "number_sections": true,
   "sideBar": true,
   "skip_h1_title": true,
   "title_cell": "Table of Contents",
   "title_sidebar": "Contents",
   "toc_cell": false,
   "toc_position": {
    "height": "calc(100% - 180px)",
    "left": "10px",
    "top": "150px",
    "width": "275.2px"
   },
   "toc_section_display": true,
   "toc_window_display": true
  }
 },
 "nbformat": 4,
 "nbformat_minor": 2
}
