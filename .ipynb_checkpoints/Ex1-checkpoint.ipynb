{
 "cells": [
  {
   "cell_type": "markdown",
   "metadata": {},
   "source": [
    "<head>\n",
    "<style>\n",
    "    pre {tab-size: 2;}    \n",
    "    div {tab-size: 2;}    \n",
    "</style> \n",
    "<head>\n"
   ]
  },
  {
   "cell_type": "markdown",
   "metadata": {},
   "source": [
    "## Feladatok 1"
   ]
  },
  {
   "cell_type": "markdown",
   "metadata": {},
   "source": [
    "<a id='FOK2'></a>\n",
    "### Egyforma fokszámok 2\n",
    "Konstruáljunk minden $n>1$-re olyan gráfot, melyben **pontosan egy** csúcspárnak egyforma a fokszáma.<br>\n",
    "[megoldás](#FOK2_M)\n"
   ]
  },
  {
   "cell_type": "markdown",
   "metadata": {},
   "source": [
    "<a id='ER1'></a>\n",
    "### Erdős-Rényi gráf\n",
    "Kis $n$-ekre ($<20$) generáljunk véletlen gráfot a következőképpen: <br> \n",
    "   rögzítsünk egy $0<p<1$ számot, vegyük sorra a *lehetséges* éleket, melyeket $p$ valószínűséggel    vegyünk hozzá a gráfhoz.<br> Hány egyforma fokú csúcspárra számíthatunk? (+) <br>\n",
    "[megoldás](#ER1_M)\n"
   ]
  },
  {
   "cell_type": "markdown",
   "metadata": {},
   "source": [
    "<a id='FOK4'></a>\n",
    "### Elsőfokú csúcsok 2\n",
    "Legyen $G$ egy körmentes gráf, melyre $E\\neq\\emptyset$.\n",
    "$G$-ben van $\\Delta(G)$ elsőfokú csúcs.<br>\n",
    "[megoldás](#FOK4_M)"
   ]
  },
  {
   "cell_type": "markdown",
   "metadata": {},
   "source": [
    "<a id='CON2'></a>\n",
    "### Összefüggőség és fokszámok 1\n",
    "1. Ha $\\delta(G)\\ge\\lfloor \\frac{n}{2}\\rfloor$ akkor $G$ összefüggő.\n",
    "1. Adjunk példát olyan **nem-összefüggő** $G$-re, melyre \n",
    "   $\\delta(G)=\\lfloor \\frac{n}{2}\\rfloor-1$.<br>\n",
    "[megoldás](#CON2_M)"
   ]
  },
  {
   "cell_type": "markdown",
   "metadata": {},
   "source": [
    "<a id='CON3'></a>\n",
    "### Összefüggőség és fokszámok 2\n",
    "Ha $N_G(v)+N_G(w)+1\\ge n$ bármely $v\\neq w$-re akkor $G$ összefüggő.<br>\n",
    "[megoldás](#CON3_M)"
   ]
  },
  {
   "cell_type": "markdown",
   "metadata": {},
   "source": [
    "<a id='PATH1'></a>\n",
    "### Utak és fokszámok\n",
    "$G$-ben van $\\delta(G)$ hosszú út.\n",
    "<br>\n",
    "[megoldás](#PATH1_M)"
   ]
  },
  {
   "cell_type": "markdown",
   "metadata": {},
   "source": [
    "<a id='CIRC1'></a>\n",
    "### Körök és fokszámok\n",
    "Ha $\\delta(G)>1$ akkor $G$-ben van $\\delta(G)+1$ hosszú kör.\n",
    "<br>\n",
    "\n",
    "[megoldás](#CIRC1_M)"
   ]
  },
  {
   "cell_type": "markdown",
   "metadata": {},
   "source": [
    "<a id='ODD1'></a>\n",
    "### Két páratlan fokú csúcs\n",
    "Ha $G$-ben pontosan 2 páratlan fokú csúcs van, akkor \n",
    "van út köztük.<br>\n",
    "[megoldás](#ODD1_M)"
   ]
  },
  {
   "cell_type": "markdown",
   "metadata": {},
   "source": [
    "<a id='COMP1'></a>\n",
    "### Komponensek és élek\n",
    "Ha $G$-nek $n$ csúcsa és $k$ komponense van, akkor $|E|\\le \\binom{n-(k-1)}{2} $<br>\n",
    "[megoldás](#COMP1_M)"
   ]
  },
  {
   "cell_type": "markdown",
   "metadata": {},
   "source": [
    "<a id='TRI1'></a>\n",
    "### Háromszögek és élek száma (Turán)\n",
    "Ha egy $n$-csúcsú $(V,E)$ gráfban nincs háromszög, akkor\n",
    "$|E|\\le \\lfloor \\frac{n^2}{2}\\rfloor$<br>\n",
    "[megoldás](#TRI1_M)"
   ]
  },
  {
   "cell_type": "markdown",
   "metadata": {},
   "source": [
    "<a id='TRI2'></a>\n",
    "### Háromszögek \n",
    "1. Ha $|V|\\ge 6$ akkor $G$ vagy $G^c$ tartalmaz $\\triangle$-et.\n",
    "1. $|V|<6$-ra a fenti nem feltétlen igaz.\n",
    "<br>\n",
    "[megoldás](#TRI2_M)"
   ]
  },
  {
   "cell_type": "markdown",
   "metadata": {},
   "source": [
    "## Megoldások 1"
   ]
  },
  {
   "cell_type": "markdown",
   "metadata": {},
   "source": [
    "<a id='FOK2_M'> </a>\n",
    "### Egyforma fokszámok 2\n",
    "Olyan $n$ csúcsu gráfokat generálunk egymásra épülve melyekben van $1$ izolált pont és nincs telített pont,<br>\n",
    "azaz a maximális fokszám legfeljebb $n-2$. Az ilyen gráfokat *jó*nak nevezzük.\n",
    "1. $n=2$: $2$ izolált csúcs.\n",
    "1. $n=3$: $1$ izolált és $2$ összekötött csúcs.\n",
    "1. tegyük fel, hogy már van $n<k$-ra *jó* gráfunk. Vegyünk fel $1$ izolált pontot, egy $k-2$ csúcsu \n",
    "   *jó* gráfot <br>és egy csúcsot, melyet a $k-2$-es *jó* gráf minden csúcsával összekötünk. \n",
    "   A létrejött $k$-as gráf *jó*.\n",
    "\n",
    "[vissza a feladathoz](#FOK2)\n",
    "\n"
   ]
  },
  {
   "cell_type": "markdown",
   "metadata": {},
   "source": [
    "<a id='ER1_M'></a>\n",
    "### Erdős-Rényi gráf\n",
    "[megoldás](Progs.ipynb#ER1_M)<br>\n",
    "[vissza a feladathoz](#ER1)"
   ]
  },
  {
   "cell_type": "markdown",
   "metadata": {},
   "source": [
    "<a id='FOK4_M'> </a>\n",
    "### Elsőfokú csúcsok 2\n",
    "Legyen $w_0$ egy $d=\\Delta(G)>1$ fokszámú pont és és $w_1$ egy szomszédja. A már meglevő $w_0,w_1,\\ldots,w_k$ utat bővítsük ha lehet. Bővítés alatt azt értjük, hogy számba vesszük $w_k$ szomszédait, ha $1$ van megállunk, ha több is van \n",
    "választunk egy $w_{k-1}$-től különbözőt, ez az új szomszéd nem lehet az eddigi útnak eleme a körmentesség miatt. \n",
    "\n",
    "[vissza a feladathoz](#FOK4)\n"
   ]
  },
  {
   "cell_type": "markdown",
   "metadata": {},
   "source": [
    "<a id='CON2_M'></a>\n",
    "### Összefüggőség és fokszámok 1\n",
    "1. Ha $v\\neq w$ akkor $N_G(v)\\cap N_G(w)\\neq\\emptyset$, hiszen egyébként $n\\ge 2\\lfloor\\frac{n}{2}\\rfloor+2>n$ lenne.<br>\n",
    "Ezért bármely két csúcs között legfeljebb $2$ hosszú út vezet.\n",
    "1. Képzeljunk el egy $6$ pontú két diszjunkt $\\triangle$-ből álló gráfot.\n",
    "<br>\n",
    "\n",
    "[vissza a feladathoz](#CON2)"
   ]
  },
  {
   "cell_type": "markdown",
   "metadata": {},
   "source": [
    "<a id='CON3_M'></a>\n",
    "### Összefüggőség és fokszámok 2\n",
    "Ha $N_G(v)\\cap N_G(w)=\\emptyset$, akkor $n\\ge N_G(v)+N_G(w)+2>n$ lenne, ami lehetetlen.\n",
    "<br>\n",
    "\n",
    "[vissza a feladathoz](#CON3)"
   ]
  },
  {
   "cell_type": "markdown",
   "metadata": {},
   "source": [
    "<a id='PATH1_M'></a>\n",
    "### Utak és fokszámok\n",
    "Legyen $d=\\delta(G)>0$. Ha $d=0$ vagy $1$ az állítás triviális. \n",
    "<br>\n",
    "Azt látjuk be hogy tetszőleges $v$ csúcsból indul $d$ hosszú út. Legyen $v=v_1,v_2$ a keresett út eleje.\n",
    "<br> \n",
    "Mikor bővíthetünk biztosan egy $k\\ge 1$ hosszú $v_1,\\ldots,v_{k+1}$ utat? \n",
    "Ha $v_{k+1}$ fokszámát az út prefixe nem tudja \"felhasználni\", <br>azaz $k<d$, hiszen ekkor van olyan $v_{k+1}$ szomszéd mely nem szerepel az útban. \n",
    "<br>\n",
    "Ezért valamilyen $d$-hosszú $v_1,v_2,\\ldots,v_{d+1}$ út mindig létezik.\n",
    "<br>\n",
    "[vissza a feladathoz](#PATH1)"
   ]
  },
  {
   "cell_type": "markdown",
   "metadata": {},
   "source": [
    "<a id='CIRC1_M'></a>\n",
    "### Körök és fokszámok\n",
    "Legyen $d=\\delta(G)>1$. Bármely pont rajta van egy $d+1$ hosszú körön.<br>\n",
    "Legyen $v_1$ egy csúcs, a [PATH1](#PATH1) miatt van egy $d$-hosszú, \n",
    "$v_1,v_2,\\ldots,v_{d+1}$ utunk. \n",
    "<br>\n",
    "Ezt bővítsük még amíg lehetséges egy $v_1,v_2,\\ldots,v_{k+1}$ útra. A $v_{k+1}$ $d$ szomszédja a $v_1,\\ldots,v_k$-k közül való. \n",
    "<br>\n",
    "A legkisebb indexű $v_i$-t választva kapunk egy \n",
    "$v_i,v_{i+1},\\ldots,v_{k+1},v_{i}$ *legalább* $d+1$ hosszú kört.\n",
    "\n",
    "\n",
    "[vissza a feladathoz](#CIRC1)"
   ]
  },
  {
   "cell_type": "markdown",
   "metadata": {},
   "source": [
    "<a id='ODD1_M'></a>\n",
    "### Két páratlan fokú csúcs\n",
    "Ha nincs út (vagy séta) a két pont között, akkor különböző \n",
    "komponensben vannak, de ez ellentmond annak hogy egy gráfban \n",
    "páros sok páratlan fokú csúcs van.\n",
    "[vissza a feladathoz](#ODD1)"
   ]
  },
  {
   "cell_type": "markdown",
   "metadata": {},
   "source": [
    "<a id='COMP1_M'></a>\n",
    "### Komponensek és élek\n",
    "1. Jelölje $n_1,\\ldots,n_k$ jelöli a komponensek csúcsszámait. \n",
    "   A $\\binom{a}{2}$ mennyiségek $K_a$ élei számát jelölik, \n",
    "   ezért $1<a\\le b$-re:\n",
    "   $$\n",
    "   \\binom{a}{2}+\\binom{b}{2}\\le\\binom{a-1}{2}+\\binom{b+1}{2}\n",
    "   $$\n",
    "   hiszen a baloldal $a-1$-el csökkent és $b$-vel nőtt. Ezt egymás után alkalmazva a komponensek méreteire megkapjuk az állítást. <br>\n",
    "\n",
    "[vissza a feladathoz](#COMP1)"
   ]
  },
  {
   "cell_type": "markdown",
   "metadata": {},
   "source": [
    "<a id='TRI1_M'></a>\n",
    "### Háromszögek és élek száma (Turán)\n",
    "1. **Páros** rendű gráfra: \n",
    "   Ha  $n=2k$, akkor a bizonyítandó: $|E|\\le k^2$, amit $k=1,2$-re \n",
    "     könnyen ellenőrizhetünk. Tfh. $k>2$-re teljesül az állítás. Tekintsünk egy $G\\ \\ 2k+2$ rendű, nemüres gráfot, amiben nincs háromszög. Ekkor $G$-ben van egy $(u,v)$ él. Dobjuk ki $G$-ből $u$-t és $v$-t az illeszkedő élekkel együtt. A maradék gráf is háromszögmentes és éleinek száma $\\le k^2$, továbbá $u$-nak és $v$-nek nem lehet harmadik közös szomszédja $G$-ben, ezért ha $u$-nak $U$ szomszédja van, akkor $v$-nek legfeljebb $2k-U$, így $G$ éleinek száma:\n",
    " $$|E|\\le k^2 + U + 2k- U +1 = (k+1)^2$$\n",
    "ami éppen a bizonyítandó.\n",
    "1. **Páratlan** rendű gráfra: alkalmazzuk a fenti gondolatmenetet.\n",
    "[vissza a feladathoz](#TRI1)"
   ]
  },
  {
   "cell_type": "markdown",
   "metadata": {},
   "source": [
    "<a id='TRI2'></a>\n",
    "### Háromszögek \n",
    "A komplementer fogalom helyett gondolkozhatunk egy teljes gráf éleinek színezésében, két szín (piros és zöld) felhasználásával. <br>\n",
    "1. Tekintsünk egy tetszőleges csűcsot. Mivel legalább 5 szomszédja van, ezért a szomszédokba vezető élek között van \n",
    "    legalább 3 egyforma, mondjuk piros színű. Ha ezen csúcsok között van piros él, akkor van piros $\\triangle$, ha nincs  akkor pedig zöld.\n",
    "1. Ötágú csillag: piros - többi zöld.\n",
    "<br>\n",
    "\n",
    "[vissza a feladathoz](#TRI2)"
   ]
  },
  {
   "cell_type": "markdown",
   "metadata": {},
   "source": [
    "## Források\n",
    "\n",
    "- a budapesti Fazék [könyvei](https://matkonyv.fazekas.hu/index.html)<br>\n",
    "- [Linköping](http://courses.mai.liu.se/GU/TATA64/Document/ExercisesInGraphTheory2017.pdf)<br>\n",
    "- [PTE](http://tamop412a.ttk.pte.hu/files/Kombinatorika_kesz_jav3_final.pdf)\n"
   ]
  },
  {
   "cell_type": "code",
   "execution_count": null,
   "metadata": {},
   "outputs": [],
   "source": []
  }
 ],
 "metadata": {
  "@webio": {
   "lastCommId": "dd9c7c958e0b4b439d9f0c10e9dc9789",
   "lastKernelId": "5a4be4ae-bc0d-4a3f-8a14-1e1361a2030f"
  },
  "kernelspec": {
   "display_name": "Julia 1.1.1",
   "language": "julia",
   "name": "julia-1.1"
  },
  "language_info": {
   "file_extension": ".jl",
   "mimetype": "application/julia",
   "name": "julia",
   "version": "1.1.1"
  },
  "toc": {
   "base_numbering": 1,
   "nav_menu": {},
   "number_sections": true,
   "sideBar": true,
   "skip_h1_title": true,
   "title_cell": "Table of Contents",
   "title_sidebar": "Contents",
   "toc_cell": false,
   "toc_position": {
    "height": "calc(100% - 180px)",
    "left": "10px",
    "top": "150px",
    "width": "275.2px"
   },
   "toc_section_display": true,
   "toc_window_display": true
  }
 },
 "nbformat": 4,
 "nbformat_minor": 2
}
