{
 "cells": [
  {
   "cell_type": "markdown",
   "metadata": {},
   "source": [
    "## Jelölések, fogalmak\n",
    "1. [Egyszerű](http://mathworld.wolfram.com/SimpleGraph.html) gráf:<br> \n",
    "    irányítatlan, súlyozatlan, hurok és többszörös élektől mentes.<br>\n",
    "    Gráfon ilyen gráfot értünk - hacsak mást nem mondunk.\n",
    "1. $G=(V,E)$: $V$ a csúcsok halmaza, $E$ pedig éleké, ami itt $\\{v,w\\}$ alakú halmazok halmaza $v,w\\in V,\\ v\\neq w$.    \n",
    "1. $|V|$ a gráf **rendje**, $|E|$ a **mérete**\n",
    "1.  \n",
    "    - az $v,w$ csúcsok **szomszédosak** ha $\\{v,w\\}$ éle a gráfnak.\n",
    "    - **séta**: csúcsok olyan $v_1,\\ldots,v_k$ sorozata, melyre $v_i,v_{i+1},\\ \\ i=1,\\ldots k-1$, \n",
    "       szomszédosak, azaz $\\{v_i,v_{i+1}\\}$ egy él.<br>\n",
    "       Hossza a benne lévő élek száma. Jele $v_1\\leadsto v_k$.\n",
    "    - **vonal**: **különböző** élekből álló séta.\n",
    "    - **út**: **különböző** csúcsokból álló séta.\n",
    "    - **kör**: olyan vonal melynek a kezdő és végpontja **azonos**, de minden más pont csak **egyszer** szerepel benne.\n",
    "1. Egy gráf\n",
    "    - **összefüggő**, ha bármely két pontja között van séta.\n",
    "    - **fa**: ha összefüggő és körmentes.\n",
    "    - **erdő** ha körmentes\n",
    "    - **komplementer**e az a $(V,E')$ gráf, melyre $E'$ pont azokat az éleket tartalmazza, melyeket $E$ nem.\n",
    "1. $\\delta(G)$ a minimális fokszám $G$-ben\n",
    "1. $\\Delta(G)$ a maximális fokszám $G$-ben\n",
    "1. $N_G(v)$ a $G$-beli $v$ csúcs szomszédainak halmaza, ha nem okoz félreértést röviden $N(v)$.\n",
    "1. $d_G(v)=|N_G(v)|$ a $v$ csúcs fokszáma, ha nem okoz félreértést röviden $d(v)$ vagy $d_v$.\n",
    "\n",
    "1. - $(V',E')$ **részgráf**ja $(V,E)$-nek, ha $V' \\subset V$ és \n",
    "$E'\\subset E$. \n",
    "   - egy részgráf **feszítő**, ha az eredeti gráf minden pontját tartalmazza.\n",
    "   - egy részgráf **feszített**, ha az eredeti gráf minden olyan élét tartalmazza, mely a részgráf csúcsait köti össze.\n",
    "1. Egy gráfban a van út (séta) $x$ és $y$ között reláció egy \n",
    "   ekvivalenciarelációa csúcsok között, mely által meghatározott osztályokat az öröklött élekkel a gráf **komponenseinek** nevezzük. A komponensek tovább nem bővíthető részgráfjai az eredeti gráfnak.<br>\n",
    "1. Egy gráf **páros**, ha $V$ két nemüres, diszjunkt belső él nélküli halmazra bontható.\n",
    "1. speciális gráfok:\n",
    "    - **teljes** $n$-gráf: $K_n$\n",
    "    - $r$ **reguláris** gráf: minden csúcs foka $r$. Jele $K_{n,r}$ ahol $n$ a csúcsok száma.\n",
    "1. $(V,E)$ **izomorf** $(V',E')$-vel, ha létezik egy $\\varphi:V\\to V'$ bijekció, melyre $(u,v)$ pont akkor él, ha $(\\varphi(u),\\varphi(v))$ is az.\n"
   ]
  },
  {
   "cell_type": "markdown",
   "metadata": {},
   "source": [
    "## Források\n",
    "\n",
    "- a budapesti Fazék [könyvei](https://matkonyv.fazekas.hu/index.html)<br>\n",
    "- [Linköping](http://courses.mai.liu.se/GU/TATA64/Document/ExercisesInGraphTheory2017.pdf)<br>\n",
    "- [PTE](http://tamop412a.ttk.pte.hu/files/Kombinatorika_kesz_jav3_final.pdf)\n"
   ]
  },
  {
   "cell_type": "code",
   "execution_count": null,
   "metadata": {},
   "outputs": [],
   "source": []
  }
 ],
 "metadata": {
  "@webio": {
   "lastCommId": "c0d9b1efbd034b74880bd11f3bc2bdc2",
   "lastKernelId": "1a26693e-08fa-4e5c-af11-0bbe88dfef04"
  },
  "kernelspec": {
   "display_name": "Julia 1.1.1",
   "language": "julia",
   "name": "julia-1.1"
  },
  "language_info": {
   "file_extension": ".jl",
   "mimetype": "application/julia",
   "name": "julia",
   "version": "1.1.1"
  },
  "toc": {
   "base_numbering": 1,
   "nav_menu": {},
   "number_sections": true,
   "sideBar": true,
   "skip_h1_title": true,
   "title_cell": "Table of Contents",
   "title_sidebar": "Contents",
   "toc_cell": false,
   "toc_position": {
    "height": "calc(100% - 180px)",
    "left": "10px",
    "top": "150px",
    "width": "275.2px"
   },
   "toc_section_display": true,
   "toc_window_display": true
  }
 },
 "nbformat": 4,
 "nbformat_minor": 2
}
