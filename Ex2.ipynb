{
 "cells": [
  {
   "cell_type": "markdown",
   "metadata": {},
   "source": [
    "<head>\n",
    "<style>\n",
    "    pre {tab-size: 2;}    \n",
    "    div {tab-size: 2;}    \n",
    "</style> \n",
    "<head>\n"
   ]
  },
  {
   "cell_type": "markdown",
   "metadata": {},
   "source": [
    "## Feladatok 2"
   ]
  },
  {
   "cell_type": "markdown",
   "metadata": {},
   "source": [
    "<a id='IRR1'></a>\n",
    "### Irracionális számok\n",
    "Adott 6 irracionális szám. Mutassuk meg, hogy van köztük 3 olyan melyek páronként irracionális összegűek.\n",
    "<br>\n",
    "[megoldás](#IRR1_M)\n"
   ]
  },
  {
   "cell_type": "markdown",
   "metadata": {},
   "source": [
    "<a id='TRI3'></a>\n",
    "### Bajnokság 1\n",
    "Egy labdarúgóbajnokságban $18$ csapat vesz részt. <br>\n",
    "Mutassuk meg, hogy $8$ forduló lejátszása után még biztosan van olyan $3$ csapat,<br> \n",
    "melyek közül semelyik kettő nem játszott egymással.\n",
    "<br>\n",
    "[megoldás](#TRI3_M)\n",
    "\n"
   ]
  },
  {
   "cell_type": "markdown",
   "metadata": {},
   "source": [
    "## Megoldások 1"
   ]
  },
  {
   "cell_type": "markdown",
   "metadata": {},
   "source": [
    "<a id='IRR1'></a>\n",
    "### Irracionális számok\n",
    "Legyen egy él pirosra színezve ha az összeg irracionális egyébként zöld. Tudjuk, hogy van egyszínű $a,b,c$ csúcsú $\\triangle$. <br>Ha ez zöld, akkor $a+b+c\\in \\mathbb{Q}$, amiből $a,b,c\\in\\mathbb{Q}$ lenne, ami nem lehet.\n",
    "<br>\n",
    "[vissza a feladathoz](#IRR1)\n",
    "\n"
   ]
  },
  {
   "cell_type": "markdown",
   "metadata": {},
   "source": [
    "<a id='TRI3_M'></a>\n",
    "### Bajnokság 1 \n",
    "Induljunk ki $K_{18}$-ból. Minden forduló után töröljük a lejátszott mérkőzések linkjeit.<br>\n",
    "A $8$. forduló után minden csúcsnak $17-8=9$-szomszédja van (maradt). <br>\n",
    "Legyen $v$ egy tetszőleges csúcs és legyen $U$ szomszédok halmaza. Ha $U$-n \n",
    "belül van él készen vagyunk. <br>Ha nincs, az azt jelenti, hogy az $U$ csapatai csak egymással \n",
    "játszottak eddig. <br>Ez lehetetlen, mivel $U$ páratlan elemszámú (már az első fordulóban $1$ csapat \n",
    "pár nélkül maradna)\n",
    "<br>\n",
    "(Gy.2048@Kömal)<br>\n",
    "[vissza a feladathoz](#TRI3)\n"
   ]
  },
  {
   "cell_type": "code",
   "execution_count": null,
   "metadata": {},
   "outputs": [],
   "source": []
  }
 ],
 "metadata": {
  "@webio": {
   "lastCommId": "dd9c7c958e0b4b439d9f0c10e9dc9789",
   "lastKernelId": "5a4be4ae-bc0d-4a3f-8a14-1e1361a2030f"
  },
  "kernelspec": {
   "display_name": "Julia 1.1.1",
   "language": "julia",
   "name": "julia-1.1"
  },
  "language_info": {
   "file_extension": ".jl",
   "mimetype": "application/julia",
   "name": "julia",
   "version": "1.1.1"
  },
  "toc": {
   "base_numbering": 1,
   "nav_menu": {},
   "number_sections": true,
   "sideBar": true,
   "skip_h1_title": true,
   "title_cell": "Table of Contents",
   "title_sidebar": "Contents",
   "toc_cell": false,
   "toc_position": {
    "height": "calc(100% - 180px)",
    "left": "10px",
    "top": "150px",
    "width": "275.2px"
   },
   "toc_section_display": true,
   "toc_window_display": true
  }
 },
 "nbformat": 4,
 "nbformat_minor": 2
}
